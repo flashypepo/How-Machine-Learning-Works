{
 "cells": [
  {
   "cell_type": "code",
   "execution_count": 1,
   "metadata": {
    "collapsed": true
   },
   "outputs": [],
   "source": [
    "# configures the notebook to show plots inside it\n",
    "%matplotlib inline"
   ]
  },
  {
   "cell_type": "markdown",
   "metadata": {},
   "source": [
    "# Chapter 2\n",
    "# Grokking the Problem: What does the Data Look Like?\n",
    "---"
   ]
  },
  {
   "cell_type": "markdown",
   "metadata": {},
   "source": [
    "## Setting Up\n",
    "Here, we set up the variables we need from previous chapter's notebook in order to contiinue using them in this chapter. We just need the `data_of_interest` variable to be available."
   ]
  },
  {
   "cell_type": "code",
   "execution_count": 2,
   "metadata": {
    "collapsed": true
   },
   "outputs": [],
   "source": [
    "import pandas as pd\n",
    "\n",
    "data = pd.read_csv(\"../datasets/PimaIndiansDiabetes.csv\")\n",
    "data_of_interest = data.loc[:, [\"Blood Glucose\", \"BMI\", \"Class\"]]"
   ]
  },
  {
   "cell_type": "markdown",
   "metadata": {},
   "source": [
    "---\n",
    "## 2.2 Descriptive Statistics"
   ]
  },
  {
   "cell_type": "markdown",
   "metadata": {},
   "source": [
    "### 2.2.1 Mean, Mode, and Median\n",
    "\n",
    "Here we start exploring the _measures of central tendancy_ for our data of interest, starting with the **mean**"
   ]
  },
  {
   "cell_type": "code",
   "execution_count": 3,
   "metadata": {},
   "outputs": [
    {
     "name": "stdout",
     "output_type": "stream",
     "text": [
      "Blood Glucose    120.894531\n",
      "BMI               31.992578\n",
      "Class              0.348958\n",
      "dtype: float64\n"
     ]
    }
   ],
   "source": [
    "mean_values = data_of_interest.mean()\n",
    "print(mean_values)"
   ]
  },
  {
   "cell_type": "markdown",
   "metadata": {},
   "source": [
    "---\n",
    "For the discrete values of `Class`, the mean value doesn't seem very interpretable rightnow. The **mode** helps with such cases "
   ]
  },
  {
   "cell_type": "code",
   "execution_count": 4,
   "metadata": {},
   "outputs": [
    {
     "name": "stdout",
     "output_type": "stream",
     "text": [
      "   Blood Glucose   BMI  Class\n",
      "0             99  32.0    0.0\n",
      "1            100   NaN    NaN\n"
     ]
    }
   ],
   "source": [
    "mode_values = data_of_interest.mode()\n",
    "print(mode_values)"
   ]
  },
  {
   "cell_type": "markdown",
   "metadata": {},
   "source": [
    "---\n",
    "The last measure of central tendancy we can use is the median, which is simpy the center value of the samples that splits it into two halves. If we think about the data clustering around its center (the definition of central _tendancy_), then the median is a very good candidate to capture that _center_."
   ]
  },
  {
   "cell_type": "code",
   "execution_count": 5,
   "metadata": {},
   "outputs": [
    {
     "name": "stdout",
     "output_type": "stream",
     "text": [
      "Blood Glucose    117.0\n",
      "BMI               32.0\n",
      "Class              0.0\n",
      "dtype: float64\n"
     ]
    }
   ],
   "source": [
    "median_values = data_of_interest.median()\n",
    "print(median_values)"
   ]
  },
  {
   "cell_type": "markdown",
   "metadata": {},
   "source": [
    "---\n",
    "### 2.2.2 Ranges, Sample Variance, and Sample Standard Deviation\n",
    "\n",
    "To start looking at how the data are dispersed, it's a good idea to look at the minimum and maximum values of the data. Along with the mesaures of central tendancy, the min and max values give us an overview of the range on which the values are dispersed"
   ]
  },
  {
   "cell_type": "code",
   "execution_count": 6,
   "metadata": {},
   "outputs": [
    {
     "name": "stdout",
     "output_type": "stream",
     "text": [
      "Blood Glucose    0.0\n",
      "BMI              0.0\n",
      "Class            0.0\n",
      "dtype: float64\n",
      "=========\n",
      "Blood Glucose    199.0\n",
      "BMI               67.1\n",
      "Class              1.0\n",
      "dtype: float64\n"
     ]
    }
   ],
   "source": [
    "min_values = data_of_interest.min()\n",
    "max_values = data_of_interest.max()\n",
    "\n",
    "print(min_values)\n",
    "print(\"=========\")\n",
    "print(max_values)"
   ]
  },
  {
   "cell_type": "markdown",
   "metadata": {},
   "source": [
    "---\n",
    "The results above show something strange about the data; we see that the BMI and BG has values of 0, which is biologically impossible. This is an example of **_missing data_** that could skew our work in the wrong direction. Our solution here is to drop these instances by selecting only the records that has nonzero values for the BMI and BG"
   ]
  },
  {
   "cell_type": "code",
   "execution_count": 7,
   "metadata": {
    "collapsed": true
   },
   "outputs": [],
   "source": [
    "bmi_zeros_mask = data_of_interest.loc[:, \"BMI\"] != 0\n",
    "bg_zeros_mask = data_of_interest.loc[:, \"Blood Glucose\"] != 0\n",
    "\n",
    "clean_data_of_interest = data_of_interest[bmi_zeros_mask & bg_zeros_mask]"
   ]
  },
  {
   "cell_type": "markdown",
   "metadata": {},
   "source": [
    "---\n",
    "We can check the validity of the cleaning process by running the `min()` and `max()` methods again, but this time against the clean version of the data."
   ]
  },
  {
   "cell_type": "code",
   "execution_count": 8,
   "metadata": {},
   "outputs": [
    {
     "name": "stdout",
     "output_type": "stream",
     "text": [
      "Blood Glucose    44.0\n",
      "BMI              18.2\n",
      "Class             0.0\n",
      "dtype: float64\n",
      "=========\n",
      "Blood Glucose    199.0\n",
      "BMI               67.1\n",
      "Class              1.0\n",
      "dtype: float64\n"
     ]
    }
   ],
   "source": [
    "min_values = clean_data_of_interest.min()\n",
    "max_values = clean_data_of_interest.max()\n",
    "\n",
    "print(min_values)\n",
    "print(\"=========\")\n",
    "print(max_values)"
   ]
  },
  {
   "cell_type": "markdown",
   "metadata": {},
   "source": [
    "---\n",
    "In addition to min and max values, **_quantiles_** give us a more detailed picture about the distribution of the data, a picture that we can visualize using **_boxplots_**"
   ]
  },
  {
   "cell_type": "code",
   "execution_count": 9,
   "metadata": {},
   "outputs": [
    {
     "name": "stdout",
     "output_type": "stream",
     "text": [
      "      Blood Glucose   BMI  Class\n",
      "0.25          99.75  27.5    0.0\n",
      "0.50         117.00  32.3    0.0\n",
      "0.75         141.00  36.6    1.0\n"
     ]
    },
    {
     "data": {
      "text/plain": [
       "<matplotlib.axes._subplots.AxesSubplot at 0x7ff894ac3e10>"
      ]
     },
     "execution_count": 9,
     "metadata": {},
     "output_type": "execute_result"
    },
    {
     "data": {
      "image/png": "[encoded data removed]",
      "text/plain": [
       "<matplotlib.figure.Figure at 0x7ff894ac35c0>"
      ]
     },
     "metadata": {},
     "output_type": "display_data"
    }
   ],
   "source": [
    "quartiles = clean_data_of_interest.quantile([0.25, 0.5, 0.75])\n",
    "\n",
    "print(quartiles)\n",
    "clean_data_of_interest.plot.box()"
   ]
  },
  {
   "cell_type": "markdown",
   "metadata": {},
   "source": [
    "---\n",
    "While boxplots allow us to understand the distribution better, we're still missing some information (like how the values inside the box are distributed). **_Variance_** and **_standard deviation_** give us single numeric measurments of how that data are spraed around the central tendancy; they tell us, on average, how far the data lies from the mean value"
   ]
  },
  {
   "cell_type": "code",
   "execution_count": 10,
   "metadata": {},
   "outputs": [
    {
     "name": "stdout",
     "output_type": "stream",
     "text": [
      "Blood Glucose    936.433323\n",
      "BMI               48.010018\n",
      "Class              0.228121\n",
      "dtype: float64\n",
      "==========\n",
      "Blood Glucose    30.601198\n",
      "BMI               6.928926\n",
      "Class             0.477621\n",
      "dtype: float64\n"
     ]
    }
   ],
   "source": [
    "sample_vars = clean_data_of_interest.var()\n",
    "sample_stds = clean_data_of_interest.std()\n",
    "\n",
    "print(sample_vars)\n",
    "print(\"==========\")\n",
    "print(sample_stds)"
   ]
  },
  {
   "cell_type": "markdown",
   "metadata": {},
   "source": [
    "---\n",
    "### 2.2.3 Histogram Plots\n",
    "Histogram plots are the clearest depction for the distribution of the data. By grouping values into bins and allowing the hieght of the bin to represent how frequent these values are, we get a nice of visual of the how the data in the sample is distributed "
   ]
  },
  {
   "cell_type": "code",
   "execution_count": 11,
   "metadata": {},
   "outputs": [
    {
     "data": {
      "text/plain": [
       "<matplotlib.axes._subplots.AxesSubplot at 0x7ff88d6119b0>"
      ]
     },
     "execution_count": 11,
     "metadata": {},
     "output_type": "execute_result"
    },
    {
     "data": {
      "image/png": "[encoded data removed]",
      "text/plain": [
       "<matplotlib.figure.Figure at 0x7ff88d5f1cf8>"
      ]
     },
     "metadata": {},
     "output_type": "display_data"
    }
   ],
   "source": [
    "clean_data_of_interest.loc[:, \"BMI\"].plot.hist()"
   ]
  },
  {
   "cell_type": "markdown",
   "metadata": {},
   "source": [
    "---\n",
    "While histograms depict the _sample distribution_, they also give us a way to leap out of the sample and start approximating the distribution of the original population. This done by converting the plots to a plots of _**density**_ and not **_frequency_**"
   ]
  },
  {
   "cell_type": "code",
   "execution_count": 12,
   "metadata": {},
   "outputs": [
    {
     "data": {
      "text/plain": [
       "Text(0,0.5,'Density')"
      ]
     },
     "execution_count": 12,
     "metadata": {},
     "output_type": "execute_result"
    },
    {
     "data": {
      "image/png": "[encoded data removed]",
      "text/plain": [
       "<matplotlib.figure.Figure at 0x7ff89f6837f0>"
      ]
     },
     "metadata": {},
     "output_type": "display_data"
    }
   ],
   "source": [
    "bin_size = 4.89 # the bin size in the 10 bins histogram\n",
    "\n",
    "data_size = len(clean_data_of_interest.loc[:, \"BMI\"])\n",
    "weights_seq = [1 / bin_size] * data_size\n",
    "\n",
    "\n",
    "clean_data_of_interest.loc[:, \"BMI\"].plot.hist(weights=weights_seq) \\\n",
    ".set_ylabel(\"Density\") # changes the label on y-axis"
   ]
  },
  {
   "cell_type": "markdown",
   "metadata": {},
   "source": [
    "---\n",
    "<h4 style='color:darkred'>Exercise 2.1 </h4>\n",
    "\n",
    "<span style='color:darkred'>Generate the histogram plot for the Blood Glucose values.</span>"
   ]
  },
  {
   "cell_type": "code",
   "execution_count": 13,
   "metadata": {
    "collapsed": true
   },
   "outputs": [],
   "source": [
    "# Your solution goes here"
   ]
  },
  {
   "cell_type": "markdown",
   "metadata": {},
   "source": [
    "---\n",
    "<h4 style='color:darkred'>Exercise 2.2 </h4>\n",
    "<span style='color:darkred'>Is the data sample we're using biased, or unbiased? Think about how you can determine that using the tools you learned in this chapter.</span>"
   ]
  },
  {
   "cell_type": "code",
   "execution_count": 14,
   "metadata": {
    "collapsed": true
   },
   "outputs": [],
   "source": [
    "# Your solution goes here"
   ]
  }
 ],
 "metadata": {
  "kernelspec": {
   "display_name": "Python 3",
   "language": "python",
   "name": "python3"
  },
  "language_info": {
   "codemirror_mode": {
    "name": "ipython",
    "version": 3
   },
   "file_extension": ".py",
   "mimetype": "text/x-python",
   "name": "python",
   "nbconvert_exporter": "python",
   "pygments_lexer": "ipython3",
   "version": "3.7.4"
  }
 },
 "nbformat": 4,
 "nbformat_minor": 2
}
